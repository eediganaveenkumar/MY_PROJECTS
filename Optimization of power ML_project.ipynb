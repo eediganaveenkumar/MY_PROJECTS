{
 "cells": [
  {
   "cell_type": "code",
   "execution_count": 3,
   "id": "88f6bbca-6abe-4711-8624-2fc889db9013",
   "metadata": {},
   "outputs": [],
   "source": [
    "# Importing necessary imports\n",
    "import numpy as np\n",
    "import pandas as pd\n",
    "import matplotlib.pyplot as plt\n",
    "import seaborn as sns\n",
    "import warnings\n",
    "warnings.filterwarnings(\"ignore\")\n",
    "import os\n",
    "sns.set()\n"
   ]
  },
  {
   "cell_type": "markdown",
   "id": "cde88e3f-90a4-4d7a-a477-6c715691d862",
   "metadata": {},
   "source": [
    "# Load the data"
   ]
  },
  {
   "cell_type": "code",
   "execution_count": 5,
   "id": "52fb9203-304e-4faf-9490-6b734e998f45",
   "metadata": {
    "scrolled": true
   },
   "outputs": [
    {
     "data": {
      "text/html": [
       "<div>\n",
       "<style scoped>\n",
       "    .dataframe tbody tr th:only-of-type {\n",
       "        vertical-align: middle;\n",
       "    }\n",
       "\n",
       "    .dataframe tbody tr th {\n",
       "        vertical-align: top;\n",
       "    }\n",
       "\n",
       "    .dataframe thead th {\n",
       "        text-align: right;\n",
       "    }\n",
       "</style>\n",
       "<table border=\"1\" class=\"dataframe\">\n",
       "  <thead>\n",
       "    <tr style=\"text-align: right;\">\n",
       "      <th></th>\n",
       "      <th>S no</th>\n",
       "      <th>Temperature</th>\n",
       "      <th>Humidity</th>\n",
       "      <th>Wind Speed</th>\n",
       "      <th>general diffuse flows</th>\n",
       "      <th>diffuse flows</th>\n",
       "      <th>Air Quality Index (PM)</th>\n",
       "      <th>Cloudiness</th>\n",
       "      <th>Power Consumption in A Zone</th>\n",
       "    </tr>\n",
       "  </thead>\n",
       "  <tbody>\n",
       "    <tr>\n",
       "      <th>0</th>\n",
       "      <td>1</td>\n",
       "      <td>6.559</td>\n",
       "      <td>73.8</td>\n",
       "      <td>0.083</td>\n",
       "      <td>0.051</td>\n",
       "      <td>0.119</td>\n",
       "      <td>158.0</td>\n",
       "      <td>1</td>\n",
       "      <td>34055.69620</td>\n",
       "    </tr>\n",
       "    <tr>\n",
       "      <th>1</th>\n",
       "      <td>2</td>\n",
       "      <td>6.414</td>\n",
       "      <td>74.5</td>\n",
       "      <td>0.083</td>\n",
       "      <td>0.070</td>\n",
       "      <td>0.085</td>\n",
       "      <td>159.0</td>\n",
       "      <td>1</td>\n",
       "      <td>29814.68354</td>\n",
       "    </tr>\n",
       "    <tr>\n",
       "      <th>2</th>\n",
       "      <td>3</td>\n",
       "      <td>6.313</td>\n",
       "      <td>74.5</td>\n",
       "      <td>0.08</td>\n",
       "      <td>0.062</td>\n",
       "      <td>0.100</td>\n",
       "      <td>151.0</td>\n",
       "      <td>1</td>\n",
       "      <td>29128.10127</td>\n",
       "    </tr>\n",
       "    <tr>\n",
       "      <th>3</th>\n",
       "      <td>4</td>\n",
       "      <td>6.121</td>\n",
       "      <td>75</td>\n",
       "      <td>0.083</td>\n",
       "      <td>0.091</td>\n",
       "      <td>0.096</td>\n",
       "      <td>151.0</td>\n",
       "      <td>1</td>\n",
       "      <td>28228.86076</td>\n",
       "    </tr>\n",
       "    <tr>\n",
       "      <th>4</th>\n",
       "      <td>5</td>\n",
       "      <td>5.921</td>\n",
       "      <td>75.7</td>\n",
       "      <td>0.081</td>\n",
       "      <td>0.048</td>\n",
       "      <td>0.085</td>\n",
       "      <td>154.0</td>\n",
       "      <td>1</td>\n",
       "      <td>27335.69620</td>\n",
       "    </tr>\n",
       "  </tbody>\n",
       "</table>\n",
       "</div>"
      ],
      "text/plain": [
       "   S no Temperature Humidity Wind Speed  general diffuse flows  diffuse flows  \\\n",
       "0     1       6.559     73.8      0.083                  0.051          0.119   \n",
       "1     2       6.414     74.5      0.083                  0.070          0.085   \n",
       "2     3       6.313     74.5       0.08                  0.062          0.100   \n",
       "3     4       6.121       75      0.083                  0.091          0.096   \n",
       "4     5       5.921     75.7      0.081                  0.048          0.085   \n",
       "\n",
       "   Air Quality Index (PM)  Cloudiness   Power Consumption in A Zone  \n",
       "0                   158.0           1                   34055.69620  \n",
       "1                   159.0           1                   29814.68354  \n",
       "2                   151.0           1                   29128.10127  \n",
       "3                   151.0           1                   28228.86076  \n",
       "4                   154.0           1                   27335.69620  "
      ]
     },
     "execution_count": 5,
     "metadata": {},
     "output_type": "execute_result"
    }
   ],
   "source": [
    "df=pd.read_csv(\"data.csv\")\n",
    "df.head()"
   ]
  },
  {
   "cell_type": "code",
   "execution_count": 6,
   "id": "9987a438-7c80-4cea-9a64-8754647b11b1",
   "metadata": {},
   "outputs": [
    {
     "data": {
      "text/plain": [
       "(52583, 9)"
      ]
     },
     "execution_count": 6,
     "metadata": {},
     "output_type": "execute_result"
    }
   ],
   "source": [
    "df.shape"
   ]
  },
  {
   "cell_type": "code",
   "execution_count": 7,
   "id": "a6cdf2dc-19f3-4550-ab39-6f5eb5a830da",
   "metadata": {},
   "outputs": [
    {
     "data": {
      "text/plain": [
       "Index(['S no', 'Temperature', 'Humidity', 'Wind Speed',\n",
       "       'general diffuse flows', 'diffuse flows', 'Air Quality Index (PM)',\n",
       "       'Cloudiness', ' Power Consumption in A Zone'],\n",
       "      dtype='object')"
      ]
     },
     "execution_count": 7,
     "metadata": {},
     "output_type": "execute_result"
    }
   ],
   "source": [
    "df.columns"
   ]
  },
  {
   "cell_type": "markdown",
   "id": "283633b8-71ee-4a25-929d-6a6e6e953665",
   "metadata": {},
   "source": [
    "# Data pre-processing"
   ]
  },
  {
   "cell_type": "code",
   "execution_count": 8,
   "id": "c2909a67-8363-468d-9b8d-63c76956470c",
   "metadata": {},
   "outputs": [
    {
     "data": {
      "text/plain": [
       "0        False\n",
       "1        False\n",
       "2        False\n",
       "3        False\n",
       "4        False\n",
       "         ...  \n",
       "52578    False\n",
       "52579    False\n",
       "52580    False\n",
       "52581    False\n",
       "52582    False\n",
       "Length: 52583, dtype: bool"
      ]
     },
     "execution_count": 8,
     "metadata": {},
     "output_type": "execute_result"
    }
   ],
   "source": [
    "# duplicates - handling part\n",
    "\n",
    "df.duplicated()"
   ]
  },
  {
   "cell_type": "code",
   "execution_count": 9,
   "id": "908c7927-def3-433c-a900-1c36ca1ce7f3",
   "metadata": {},
   "outputs": [
    {
     "data": {
      "text/plain": [
       "0"
      ]
     },
     "execution_count": 9,
     "metadata": {},
     "output_type": "execute_result"
    }
   ],
   "source": [
    "df.duplicated().sum()"
   ]
  },
  {
   "cell_type": "code",
   "execution_count": 10,
   "id": "1b0c6ca2-7d42-4277-aa69-ab6e5d80dbc9",
   "metadata": {},
   "outputs": [
    {
     "data": {
      "text/plain": [
       "S no                              0\n",
       "Temperature                     320\n",
       "Humidity                         25\n",
       "Wind Speed                       71\n",
       "general diffuse flows           308\n",
       "diffuse flows                    15\n",
       "Air Quality Index (PM)           18\n",
       "Cloudiness                        0\n",
       " Power Consumption in A Zone      0\n",
       "dtype: int64"
      ]
     },
     "execution_count": 10,
     "metadata": {},
     "output_type": "execute_result"
    }
   ],
   "source": [
    "# null values checking\n",
    "\n",
    "df.isnull().sum()"
   ]
  },
  {
   "cell_type": "code",
   "execution_count": 11,
   "id": "db4828b3-0fb1-4c3b-a54a-20996b24e8a3",
   "metadata": {},
   "outputs": [
    {
     "data": {
      "text/plain": [
       "757"
      ]
     },
     "execution_count": 11,
     "metadata": {},
     "output_type": "execute_result"
    }
   ],
   "source": [
    "df.isnull().sum().sum()"
   ]
  },
  {
   "cell_type": "code",
   "execution_count": 12,
   "id": "3e749a36-396c-4fee-a13c-427038a1e6f1",
   "metadata": {},
   "outputs": [
    {
     "data": {
      "text/plain": [
       "S no                            0.000000\n",
       "Temperature                     0.608562\n",
       "Humidity                        0.047544\n",
       "Wind Speed                      0.135025\n",
       "general diffuse flows           0.585741\n",
       "diffuse flows                   0.028526\n",
       "Air Quality Index (PM)          0.034232\n",
       "Cloudiness                      0.000000\n",
       " Power Consumption in A Zone    0.000000\n",
       "dtype: float64"
      ]
     },
     "execution_count": 12,
     "metadata": {},
     "output_type": "execute_result"
    }
   ],
   "source": [
    "df.isnull().sum()/len(df)*100 # percentage of null values"
   ]
  },
  {
   "cell_type": "code",
   "execution_count": 13,
   "id": "0b360a33-acd8-42f2-a30a-6b9581fd812d",
   "metadata": {},
   "outputs": [
    {
     "name": "stdout",
     "output_type": "stream",
     "text": [
      "<class 'pandas.core.frame.DataFrame'>\n",
      "RangeIndex: 52583 entries, 0 to 52582\n",
      "Data columns (total 9 columns):\n",
      " #   Column                        Non-Null Count  Dtype  \n",
      "---  ------                        --------------  -----  \n",
      " 0   S no                          52583 non-null  int64  \n",
      " 1   Temperature                   52263 non-null  object \n",
      " 2   Humidity                      52558 non-null  object \n",
      " 3   Wind Speed                    52512 non-null  object \n",
      " 4   general diffuse flows         52275 non-null  float64\n",
      " 5   diffuse flows                 52568 non-null  float64\n",
      " 6   Air Quality Index (PM)        52565 non-null  float64\n",
      " 7   Cloudiness                    52583 non-null  int64  \n",
      " 8    Power Consumption in A Zone  52583 non-null  float64\n",
      "dtypes: float64(4), int64(2), object(3)\n",
      "memory usage: 3.6+ MB\n"
     ]
    }
   ],
   "source": [
    "df.info()"
   ]
  },
  {
   "cell_type": "code",
   "execution_count": 14,
   "id": "c022b723-085b-44e6-b09f-b68f266dd968",
   "metadata": {},
   "outputs": [
    {
     "data": {
      "text/plain": [
       "S no                              int64\n",
       "Temperature                      object\n",
       "Humidity                         object\n",
       "Wind Speed                       object\n",
       "general diffuse flows           float64\n",
       "diffuse flows                   float64\n",
       "Air Quality Index (PM)          float64\n",
       "Cloudiness                        int64\n",
       " Power Consumption in A Zone    float64\n",
       "dtype: object"
      ]
     },
     "execution_count": 14,
     "metadata": {},
     "output_type": "execute_result"
    }
   ],
   "source": [
    "\n",
    "# handling  wrong dtypes\n",
    "# temperature,humidity,wind speed\n",
    "\n",
    "df.dtypes"
   ]
  },
  {
   "cell_type": "code",
   "execution_count": 15,
   "id": "06c8ca6e-cf73-470e-a286-323b005578ad",
   "metadata": {},
   "outputs": [],
   "source": [
    "df['Temperature']=pd.to_numeric(df['Temperature'],errors='coerce')\n",
    "df['Humidity']=pd.to_numeric(df['Humidity'],errors='coerce')\n",
    "df['Wind Speed']=pd.to_numeric(df['Wind Speed'],errors='coerce')"
   ]
  },
  {
   "cell_type": "code",
   "execution_count": 16,
   "id": "2f3cbbb0-1338-4509-b335-db7b803f8822",
   "metadata": {},
   "outputs": [
    {
     "data": {
      "text/plain": [
       "S no                              0\n",
       "Temperature                     323\n",
       "Humidity                         26\n",
       "Wind Speed                       75\n",
       "general diffuse flows           308\n",
       "diffuse flows                    15\n",
       "Air Quality Index (PM)           18\n",
       "Cloudiness                        0\n",
       " Power Consumption in A Zone      0\n",
       "dtype: int64"
      ]
     },
     "execution_count": 16,
     "metadata": {},
     "output_type": "execute_result"
    }
   ],
   "source": [
    "df.isnull().sum()"
   ]
  },
  {
   "cell_type": "code",
   "execution_count": 17,
   "id": "29ecca04-a122-4d86-a10d-8f840907ddad",
   "metadata": {},
   "outputs": [
    {
     "data": {
      "text/plain": [
       "S no                              int64\n",
       "Temperature                     float64\n",
       "Humidity                        float64\n",
       "Wind Speed                      float64\n",
       "general diffuse flows           float64\n",
       "diffuse flows                   float64\n",
       "Air Quality Index (PM)          float64\n",
       "Cloudiness                        int64\n",
       " Power Consumption in A Zone    float64\n",
       "dtype: object"
      ]
     },
     "execution_count": 17,
     "metadata": {},
     "output_type": "execute_result"
    }
   ],
   "source": [
    "df.dtypes"
   ]
  },
  {
   "cell_type": "code",
   "execution_count": 18,
   "id": "d752bc9c-ccc1-4ade-8acd-17d74fe7932d",
   "metadata": {},
   "outputs": [
    {
     "name": "stdout",
     "output_type": "stream",
     "text": [
      "\n",
      "Numerical type Columns :\n",
      "Index(['S no', 'Temperature', 'Humidity', 'Wind Speed',\n",
      "       'general diffuse flows', 'diffuse flows', 'Air Quality Index (PM)',\n",
      "       'Cloudiness', ' Power Consumption in A Zone'],\n",
      "      dtype='object')\n"
     ]
    }
   ],
   "source": [
    "# filling missing values\n",
    "numerical_columns = df.select_dtypes(include=['int64','float64']).columns\n",
    "print(\"\\nNumerical type Columns :\")\n",
    "print(numerical_columns)"
   ]
  },
  {
   "cell_type": "code",
   "execution_count": 19,
   "id": "747773ae-4c10-436b-9050-93d8cbe13fbd",
   "metadata": {},
   "outputs": [],
   "source": [
    "from sklearn.impute import SimpleImputer\n",
    "imputer_model = SimpleImputer(missing_values=np.nan, strategy='median')\n",
    "df_imputer = pd.DataFrame(imputer_model.fit_transform(df[numerical_columns]))\n",
    "df_imputer.columns = df[numerical_columns].columns"
   ]
  },
  {
   "cell_type": "code",
   "execution_count": 20,
   "id": "7cc14177-deae-4be9-9418-d26b73f29b43",
   "metadata": {},
   "outputs": [
    {
     "data": {
      "text/html": [
       "<div>\n",
       "<style scoped>\n",
       "    .dataframe tbody tr th:only-of-type {\n",
       "        vertical-align: middle;\n",
       "    }\n",
       "\n",
       "    .dataframe tbody tr th {\n",
       "        vertical-align: top;\n",
       "    }\n",
       "\n",
       "    .dataframe thead th {\n",
       "        text-align: right;\n",
       "    }\n",
       "</style>\n",
       "<table border=\"1\" class=\"dataframe\">\n",
       "  <thead>\n",
       "    <tr style=\"text-align: right;\">\n",
       "      <th></th>\n",
       "      <th>S no</th>\n",
       "      <th>Temperature</th>\n",
       "      <th>Humidity</th>\n",
       "      <th>Wind Speed</th>\n",
       "      <th>general diffuse flows</th>\n",
       "      <th>diffuse flows</th>\n",
       "      <th>Air Quality Index (PM)</th>\n",
       "      <th>Cloudiness</th>\n",
       "      <th>Power Consumption in A Zone</th>\n",
       "    </tr>\n",
       "  </thead>\n",
       "  <tbody>\n",
       "    <tr>\n",
       "      <th>0</th>\n",
       "      <td>1.0</td>\n",
       "      <td>6.559</td>\n",
       "      <td>73.80</td>\n",
       "      <td>0.083</td>\n",
       "      <td>0.051</td>\n",
       "      <td>0.119</td>\n",
       "      <td>158.0</td>\n",
       "      <td>1.0</td>\n",
       "      <td>34055.69620</td>\n",
       "    </tr>\n",
       "    <tr>\n",
       "      <th>1</th>\n",
       "      <td>2.0</td>\n",
       "      <td>6.414</td>\n",
       "      <td>74.50</td>\n",
       "      <td>0.083</td>\n",
       "      <td>0.070</td>\n",
       "      <td>0.085</td>\n",
       "      <td>159.0</td>\n",
       "      <td>1.0</td>\n",
       "      <td>29814.68354</td>\n",
       "    </tr>\n",
       "    <tr>\n",
       "      <th>2</th>\n",
       "      <td>3.0</td>\n",
       "      <td>6.313</td>\n",
       "      <td>74.50</td>\n",
       "      <td>0.080</td>\n",
       "      <td>0.062</td>\n",
       "      <td>0.100</td>\n",
       "      <td>151.0</td>\n",
       "      <td>1.0</td>\n",
       "      <td>29128.10127</td>\n",
       "    </tr>\n",
       "    <tr>\n",
       "      <th>3</th>\n",
       "      <td>4.0</td>\n",
       "      <td>6.121</td>\n",
       "      <td>75.00</td>\n",
       "      <td>0.083</td>\n",
       "      <td>0.091</td>\n",
       "      <td>0.096</td>\n",
       "      <td>151.0</td>\n",
       "      <td>1.0</td>\n",
       "      <td>28228.86076</td>\n",
       "    </tr>\n",
       "    <tr>\n",
       "      <th>4</th>\n",
       "      <td>5.0</td>\n",
       "      <td>5.921</td>\n",
       "      <td>75.70</td>\n",
       "      <td>0.081</td>\n",
       "      <td>0.048</td>\n",
       "      <td>0.085</td>\n",
       "      <td>154.0</td>\n",
       "      <td>1.0</td>\n",
       "      <td>27335.69620</td>\n",
       "    </tr>\n",
       "    <tr>\n",
       "      <th>...</th>\n",
       "      <td>...</td>\n",
       "      <td>...</td>\n",
       "      <td>...</td>\n",
       "      <td>...</td>\n",
       "      <td>...</td>\n",
       "      <td>...</td>\n",
       "      <td>...</td>\n",
       "      <td>...</td>\n",
       "      <td>...</td>\n",
       "    </tr>\n",
       "    <tr>\n",
       "      <th>52578</th>\n",
       "      <td>52579.0</td>\n",
       "      <td>18.820</td>\n",
       "      <td>75.60</td>\n",
       "      <td>0.094</td>\n",
       "      <td>436.200</td>\n",
       "      <td>38.960</td>\n",
       "      <td>157.0</td>\n",
       "      <td>0.0</td>\n",
       "      <td>34444.55696</td>\n",
       "    </tr>\n",
       "    <tr>\n",
       "      <th>52579</th>\n",
       "      <td>52580.0</td>\n",
       "      <td>18.820</td>\n",
       "      <td>73.50</td>\n",
       "      <td>0.089</td>\n",
       "      <td>451.600</td>\n",
       "      <td>37.730</td>\n",
       "      <td>157.0</td>\n",
       "      <td>0.0</td>\n",
       "      <td>34438.48101</td>\n",
       "    </tr>\n",
       "    <tr>\n",
       "      <th>52580</th>\n",
       "      <td>52581.0</td>\n",
       "      <td>18.820</td>\n",
       "      <td>70.10</td>\n",
       "      <td>0.085</td>\n",
       "      <td>466.400</td>\n",
       "      <td>37.490</td>\n",
       "      <td>157.0</td>\n",
       "      <td>0.0</td>\n",
       "      <td>33873.41772</td>\n",
       "    </tr>\n",
       "    <tr>\n",
       "      <th>52581</th>\n",
       "      <td>52582.0</td>\n",
       "      <td>18.820</td>\n",
       "      <td>67.75</td>\n",
       "      <td>0.086</td>\n",
       "      <td>477.000</td>\n",
       "      <td>37.370</td>\n",
       "      <td>152.0</td>\n",
       "      <td>0.0</td>\n",
       "      <td>33988.86076</td>\n",
       "    </tr>\n",
       "    <tr>\n",
       "      <th>52582</th>\n",
       "      <td>52583.0</td>\n",
       "      <td>18.820</td>\n",
       "      <td>66.24</td>\n",
       "      <td>0.088</td>\n",
       "      <td>485.700</td>\n",
       "      <td>36.720</td>\n",
       "      <td>155.0</td>\n",
       "      <td>0.0</td>\n",
       "      <td>34158.98734</td>\n",
       "    </tr>\n",
       "  </tbody>\n",
       "</table>\n",
       "<p>52583 rows × 9 columns</p>\n",
       "</div>"
      ],
      "text/plain": [
       "          S no  Temperature  Humidity  Wind Speed  general diffuse flows  \\\n",
       "0          1.0        6.559     73.80       0.083                  0.051   \n",
       "1          2.0        6.414     74.50       0.083                  0.070   \n",
       "2          3.0        6.313     74.50       0.080                  0.062   \n",
       "3          4.0        6.121     75.00       0.083                  0.091   \n",
       "4          5.0        5.921     75.70       0.081                  0.048   \n",
       "...        ...          ...       ...         ...                    ...   \n",
       "52578  52579.0       18.820     75.60       0.094                436.200   \n",
       "52579  52580.0       18.820     73.50       0.089                451.600   \n",
       "52580  52581.0       18.820     70.10       0.085                466.400   \n",
       "52581  52582.0       18.820     67.75       0.086                477.000   \n",
       "52582  52583.0       18.820     66.24       0.088                485.700   \n",
       "\n",
       "       diffuse flows  Air Quality Index (PM)  Cloudiness  \\\n",
       "0              0.119                   158.0         1.0   \n",
       "1              0.085                   159.0         1.0   \n",
       "2              0.100                   151.0         1.0   \n",
       "3              0.096                   151.0         1.0   \n",
       "4              0.085                   154.0         1.0   \n",
       "...              ...                     ...         ...   \n",
       "52578         38.960                   157.0         0.0   \n",
       "52579         37.730                   157.0         0.0   \n",
       "52580         37.490                   157.0         0.0   \n",
       "52581         37.370                   152.0         0.0   \n",
       "52582         36.720                   155.0         0.0   \n",
       "\n",
       "        Power Consumption in A Zone  \n",
       "0                       34055.69620  \n",
       "1                       29814.68354  \n",
       "2                       29128.10127  \n",
       "3                       28228.86076  \n",
       "4                       27335.69620  \n",
       "...                             ...  \n",
       "52578                   34444.55696  \n",
       "52579                   34438.48101  \n",
       "52580                   33873.41772  \n",
       "52581                   33988.86076  \n",
       "52582                   34158.98734  \n",
       "\n",
       "[52583 rows x 9 columns]"
      ]
     },
     "execution_count": 20,
     "metadata": {},
     "output_type": "execute_result"
    }
   ],
   "source": [
    "df_imputer"
   ]
  },
  {
   "cell_type": "code",
   "execution_count": 21,
   "id": "bdabfec7-dc94-4e58-b73a-d127599ec789",
   "metadata": {},
   "outputs": [
    {
     "data": {
      "text/plain": [
       "S no                            0\n",
       "Temperature                     0\n",
       "Humidity                        0\n",
       "Wind Speed                      0\n",
       "general diffuse flows           0\n",
       "diffuse flows                   0\n",
       "Air Quality Index (PM)          0\n",
       "Cloudiness                      0\n",
       " Power Consumption in A Zone    0\n",
       "dtype: int64"
      ]
     },
     "execution_count": 21,
     "metadata": {},
     "output_type": "execute_result"
    }
   ],
   "source": [
    "df_imputer.isnull().sum()"
   ]
  },
  {
   "cell_type": "code",
   "execution_count": 22,
   "id": "fd041147-d70a-45a5-a9a4-f4ae207fe181",
   "metadata": {},
   "outputs": [
    {
     "data": {
      "text/plain": [
       "S no                            float64\n",
       "Temperature                     float64\n",
       "Humidity                        float64\n",
       "Wind Speed                      float64\n",
       "general diffuse flows           float64\n",
       "diffuse flows                   float64\n",
       "Air Quality Index (PM)          float64\n",
       "Cloudiness                      float64\n",
       " Power Consumption in A Zone    float64\n",
       "dtype: object"
      ]
     },
     "execution_count": 22,
     "metadata": {},
     "output_type": "execute_result"
    }
   ],
   "source": [
    "df_imputer.dtypes"
   ]
  },
  {
   "cell_type": "code",
   "execution_count": 23,
   "id": "330a6217-9281-4dd3-aba0-bb38ef2a623d",
   "metadata": {},
   "outputs": [],
   "source": [
    "df_imputer['Cloudiness']=df_imputer['Cloudiness'].astype('int64')"
   ]
  },
  {
   "cell_type": "code",
   "execution_count": 24,
   "id": "be3e6500-a8d6-4877-8b00-7e1eab8a3892",
   "metadata": {},
   "outputs": [
    {
     "data": {
      "text/plain": [
       "S no                            float64\n",
       "Temperature                     float64\n",
       "Humidity                        float64\n",
       "Wind Speed                      float64\n",
       "general diffuse flows           float64\n",
       "diffuse flows                   float64\n",
       "Air Quality Index (PM)          float64\n",
       "Cloudiness                        int64\n",
       " Power Consumption in A Zone    float64\n",
       "dtype: object"
      ]
     },
     "execution_count": 24,
     "metadata": {},
     "output_type": "execute_result"
    }
   ],
   "source": [
    "df_imputer.dtypes"
   ]
  },
  {
   "cell_type": "code",
   "execution_count": 25,
   "id": "dd2ffb7e-dd79-4eca-ad66-6207af39bd59",
   "metadata": {},
   "outputs": [
    {
     "data": {
      "text/html": [
       "<div>\n",
       "<style scoped>\n",
       "    .dataframe tbody tr th:only-of-type {\n",
       "        vertical-align: middle;\n",
       "    }\n",
       "\n",
       "    .dataframe tbody tr th {\n",
       "        vertical-align: top;\n",
       "    }\n",
       "\n",
       "    .dataframe thead th {\n",
       "        text-align: right;\n",
       "    }\n",
       "</style>\n",
       "<table border=\"1\" class=\"dataframe\">\n",
       "  <thead>\n",
       "    <tr style=\"text-align: right;\">\n",
       "      <th></th>\n",
       "      <th>Temperature</th>\n",
       "      <th>Humidity</th>\n",
       "      <th>Wind Speed</th>\n",
       "      <th>general diffuse flows</th>\n",
       "      <th>diffuse flows</th>\n",
       "      <th>Air Quality Index (PM)</th>\n",
       "      <th>Cloudiness</th>\n",
       "      <th>Power Consumption in A Zone</th>\n",
       "    </tr>\n",
       "  </thead>\n",
       "  <tbody>\n",
       "    <tr>\n",
       "      <th>0</th>\n",
       "      <td>6.559</td>\n",
       "      <td>73.80</td>\n",
       "      <td>0.083</td>\n",
       "      <td>0.051</td>\n",
       "      <td>0.119</td>\n",
       "      <td>158.0</td>\n",
       "      <td>1</td>\n",
       "      <td>34055.69620</td>\n",
       "    </tr>\n",
       "    <tr>\n",
       "      <th>1</th>\n",
       "      <td>6.414</td>\n",
       "      <td>74.50</td>\n",
       "      <td>0.083</td>\n",
       "      <td>0.070</td>\n",
       "      <td>0.085</td>\n",
       "      <td>159.0</td>\n",
       "      <td>1</td>\n",
       "      <td>29814.68354</td>\n",
       "    </tr>\n",
       "    <tr>\n",
       "      <th>2</th>\n",
       "      <td>6.313</td>\n",
       "      <td>74.50</td>\n",
       "      <td>0.080</td>\n",
       "      <td>0.062</td>\n",
       "      <td>0.100</td>\n",
       "      <td>151.0</td>\n",
       "      <td>1</td>\n",
       "      <td>29128.10127</td>\n",
       "    </tr>\n",
       "    <tr>\n",
       "      <th>3</th>\n",
       "      <td>6.121</td>\n",
       "      <td>75.00</td>\n",
       "      <td>0.083</td>\n",
       "      <td>0.091</td>\n",
       "      <td>0.096</td>\n",
       "      <td>151.0</td>\n",
       "      <td>1</td>\n",
       "      <td>28228.86076</td>\n",
       "    </tr>\n",
       "    <tr>\n",
       "      <th>4</th>\n",
       "      <td>5.921</td>\n",
       "      <td>75.70</td>\n",
       "      <td>0.081</td>\n",
       "      <td>0.048</td>\n",
       "      <td>0.085</td>\n",
       "      <td>154.0</td>\n",
       "      <td>1</td>\n",
       "      <td>27335.69620</td>\n",
       "    </tr>\n",
       "    <tr>\n",
       "      <th>...</th>\n",
       "      <td>...</td>\n",
       "      <td>...</td>\n",
       "      <td>...</td>\n",
       "      <td>...</td>\n",
       "      <td>...</td>\n",
       "      <td>...</td>\n",
       "      <td>...</td>\n",
       "      <td>...</td>\n",
       "    </tr>\n",
       "    <tr>\n",
       "      <th>52578</th>\n",
       "      <td>18.820</td>\n",
       "      <td>75.60</td>\n",
       "      <td>0.094</td>\n",
       "      <td>436.200</td>\n",
       "      <td>38.960</td>\n",
       "      <td>157.0</td>\n",
       "      <td>0</td>\n",
       "      <td>34444.55696</td>\n",
       "    </tr>\n",
       "    <tr>\n",
       "      <th>52579</th>\n",
       "      <td>18.820</td>\n",
       "      <td>73.50</td>\n",
       "      <td>0.089</td>\n",
       "      <td>451.600</td>\n",
       "      <td>37.730</td>\n",
       "      <td>157.0</td>\n",
       "      <td>0</td>\n",
       "      <td>34438.48101</td>\n",
       "    </tr>\n",
       "    <tr>\n",
       "      <th>52580</th>\n",
       "      <td>18.820</td>\n",
       "      <td>70.10</td>\n",
       "      <td>0.085</td>\n",
       "      <td>466.400</td>\n",
       "      <td>37.490</td>\n",
       "      <td>157.0</td>\n",
       "      <td>0</td>\n",
       "      <td>33873.41772</td>\n",
       "    </tr>\n",
       "    <tr>\n",
       "      <th>52581</th>\n",
       "      <td>18.820</td>\n",
       "      <td>67.75</td>\n",
       "      <td>0.086</td>\n",
       "      <td>477.000</td>\n",
       "      <td>37.370</td>\n",
       "      <td>152.0</td>\n",
       "      <td>0</td>\n",
       "      <td>33988.86076</td>\n",
       "    </tr>\n",
       "    <tr>\n",
       "      <th>52582</th>\n",
       "      <td>18.820</td>\n",
       "      <td>66.24</td>\n",
       "      <td>0.088</td>\n",
       "      <td>485.700</td>\n",
       "      <td>36.720</td>\n",
       "      <td>155.0</td>\n",
       "      <td>0</td>\n",
       "      <td>34158.98734</td>\n",
       "    </tr>\n",
       "  </tbody>\n",
       "</table>\n",
       "<p>52583 rows × 8 columns</p>\n",
       "</div>"
      ],
      "text/plain": [
       "       Temperature  Humidity  Wind Speed  general diffuse flows  \\\n",
       "0            6.559     73.80       0.083                  0.051   \n",
       "1            6.414     74.50       0.083                  0.070   \n",
       "2            6.313     74.50       0.080                  0.062   \n",
       "3            6.121     75.00       0.083                  0.091   \n",
       "4            5.921     75.70       0.081                  0.048   \n",
       "...            ...       ...         ...                    ...   \n",
       "52578       18.820     75.60       0.094                436.200   \n",
       "52579       18.820     73.50       0.089                451.600   \n",
       "52580       18.820     70.10       0.085                466.400   \n",
       "52581       18.820     67.75       0.086                477.000   \n",
       "52582       18.820     66.24       0.088                485.700   \n",
       "\n",
       "       diffuse flows  Air Quality Index (PM)  Cloudiness  \\\n",
       "0              0.119                   158.0           1   \n",
       "1              0.085                   159.0           1   \n",
       "2              0.100                   151.0           1   \n",
       "3              0.096                   151.0           1   \n",
       "4              0.085                   154.0           1   \n",
       "...              ...                     ...         ...   \n",
       "52578         38.960                   157.0           0   \n",
       "52579         37.730                   157.0           0   \n",
       "52580         37.490                   157.0           0   \n",
       "52581         37.370                   152.0           0   \n",
       "52582         36.720                   155.0           0   \n",
       "\n",
       "        Power Consumption in A Zone  \n",
       "0                       34055.69620  \n",
       "1                       29814.68354  \n",
       "2                       29128.10127  \n",
       "3                       28228.86076  \n",
       "4                       27335.69620  \n",
       "...                             ...  \n",
       "52578                   34444.55696  \n",
       "52579                   34438.48101  \n",
       "52580                   33873.41772  \n",
       "52581                   33988.86076  \n",
       "52582                   34158.98734  \n",
       "\n",
       "[52583 rows x 8 columns]"
      ]
     },
     "execution_count": 25,
     "metadata": {},
     "output_type": "execute_result"
    }
   ],
   "source": [
    "df_imputer=df_imputer.iloc[:,1:]\n",
    "df_imputer"
   ]
  },
  {
   "cell_type": "code",
   "execution_count": 26,
   "id": "e543e4b3-52e6-4e51-b1e6-d74c05d416b9",
   "metadata": {},
   "outputs": [
    {
     "data": {
      "image/png": "[encoded data removed]",
      "text/plain": [
       "<Figure size 640x480 with 1 Axes>"
      ]
     },
     "metadata": {},
     "output_type": "display_data"
    },
    {
     "data": {
      "image/png": "[encoded data removed]",
      "text/plain": [
       "<Figure size 640x480 with 1 Axes>"
      ]
     },
     "metadata": {},
     "output_type": "display_data"
    },
    {
     "data": {
      "image/png": "[encoded data removed]",
      "text/plain": [
       "<Figure size 640x480 with 1 Axes>"
      ]
     },
     "metadata": {},
     "output_type": "display_data"
    },
    {
     "data": {
      "image/png": "[encoded data removed]",
      "text/plain": [
       "<Figure size 640x480 with 1 Axes>"
      ]
     },
     "metadata": {},
     "output_type": "display_data"
    },
    {
     "data": {
      "image/png": "[encoded data removed]",
      "text/plain": [
       "<Figure size 640x480 with 1 Axes>"
      ]
     },
     "metadata": {},
     "output_type": "display_data"
    },
    {
     "data": {
      "image/png": "[encoded data removed]",
      "text/plain": [
       "<Figure size 640x480 with 1 Axes>"
      ]
     },
     "metadata": {},
     "output_type": "display_data"
    },
    {
     "data": {
      "image/png": "[encoded data removed]",
      "text/plain": [
       "<Figure size 640x480 with 1 Axes>"
      ]
     },
     "metadata": {},
     "output_type": "display_data"
    },
    {
     "data": {
      "image/png": "[encoded data removed]",
      "text/plain": [
       "<Figure size 640x480 with 1 Axes>"
      ]
     },
     "metadata": {},
     "output_type": "display_data"
    }
   ],
   "source": [
    "# Checking outlier\n",
    "\n",
    "def boxplots(col):\n",
    "    sns.boxplot(df_imputer[col])\n",
    "    plt.show()\n",
    "\n",
    "for i in list(df_imputer.select_dtypes(exclude=['object']).columns)[0:]:\n",
    "    boxplots(i)"
   ]
  },
  {
   "cell_type": "markdown",
   "id": "b669bff1-99cc-46dc-940f-438eb6e421a3",
   "metadata": {},
   "source": [
    "# EDA"
   ]
  },
  {
   "cell_type": "code",
   "execution_count": 27,
   "id": "c9a2e67b-3180-4541-96db-490346bf0a5b",
   "metadata": {},
   "outputs": [
    {
     "data": {
      "text/html": [
       "\n",
       "        <iframe\n",
       "            width=\"100%\"\n",
       "            height=\"475\"\n",
       "            src=\"http://nandusdolly:40000/dtale/iframe/1\"\n",
       "            frameborder=\"0\"\n",
       "            allowfullscreen\n",
       "            \n",
       "        ></iframe>\n",
       "        "
      ],
      "text/plain": [
       "<IPython.lib.display.IFrame at 0x144d1965a90>"
      ]
     },
     "metadata": {},
     "output_type": "display_data"
    },
    {
     "data": {
      "text/plain": []
     },
     "execution_count": 27,
     "metadata": {},
     "output_type": "execute_result"
    }
   ],
   "source": [
    "import dtale\n",
    "dtale.show(df_imputer)"
   ]
  },
  {
   "cell_type": "code",
   "execution_count": 28,
   "id": "6a3ee823-936a-47fa-9238-0b1d8880fef1",
   "metadata": {
    "scrolled": true
   },
   "outputs": [
    {
     "data": {
      "text/html": [
       "<div>\n",
       "<style scoped>\n",
       "    .dataframe tbody tr th:only-of-type {\n",
       "        vertical-align: middle;\n",
       "    }\n",
       "\n",
       "    .dataframe tbody tr th {\n",
       "        vertical-align: top;\n",
       "    }\n",
       "\n",
       "    .dataframe thead th {\n",
       "        text-align: right;\n",
       "    }\n",
       "</style>\n",
       "<table border=\"1\" class=\"dataframe\">\n",
       "  <thead>\n",
       "    <tr style=\"text-align: right;\">\n",
       "      <th></th>\n",
       "      <th>Temperature</th>\n",
       "      <th>Humidity</th>\n",
       "      <th>Wind Speed</th>\n",
       "      <th>general diffuse flows</th>\n",
       "      <th>diffuse flows</th>\n",
       "      <th>Air Quality Index (PM)</th>\n",
       "      <th>Cloudiness</th>\n",
       "      <th>Power Consumption in A Zone</th>\n",
       "    </tr>\n",
       "  </thead>\n",
       "  <tbody>\n",
       "    <tr>\n",
       "      <th>count</th>\n",
       "      <td>52583.000000</td>\n",
       "      <td>52583.000000</td>\n",
       "      <td>52583.000000</td>\n",
       "      <td>52583.000000</td>\n",
       "      <td>52583.000000</td>\n",
       "      <td>52583.000000</td>\n",
       "      <td>52583.000000</td>\n",
       "      <td>52583.000000</td>\n",
       "    </tr>\n",
       "    <tr>\n",
       "      <th>mean</th>\n",
       "      <td>18.827815</td>\n",
       "      <td>68.286244</td>\n",
       "      <td>1.952796</td>\n",
       "      <td>181.923162</td>\n",
       "      <td>74.852230</td>\n",
       "      <td>154.499363</td>\n",
       "      <td>0.009338</td>\n",
       "      <td>31061.821779</td>\n",
       "    </tr>\n",
       "    <tr>\n",
       "      <th>std</th>\n",
       "      <td>5.795171</td>\n",
       "      <td>15.541347</td>\n",
       "      <td>2.347332</td>\n",
       "      <td>264.143797</td>\n",
       "      <td>124.072864</td>\n",
       "      <td>2.871077</td>\n",
       "      <td>0.096180</td>\n",
       "      <td>8021.057455</td>\n",
       "    </tr>\n",
       "    <tr>\n",
       "      <th>min</th>\n",
       "      <td>3.247000</td>\n",
       "      <td>11.340000</td>\n",
       "      <td>0.050000</td>\n",
       "      <td>0.004000</td>\n",
       "      <td>0.011000</td>\n",
       "      <td>150.000000</td>\n",
       "      <td>0.000000</td>\n",
       "      <td>9457.750760</td>\n",
       "    </tr>\n",
       "    <tr>\n",
       "      <th>25%</th>\n",
       "      <td>14.450000</td>\n",
       "      <td>58.340000</td>\n",
       "      <td>0.078000</td>\n",
       "      <td>0.062000</td>\n",
       "      <td>0.122000</td>\n",
       "      <td>152.000000</td>\n",
       "      <td>0.000000</td>\n",
       "      <td>24738.858990</td>\n",
       "    </tr>\n",
       "    <tr>\n",
       "      <th>50%</th>\n",
       "      <td>18.820000</td>\n",
       "      <td>69.880000</td>\n",
       "      <td>0.086000</td>\n",
       "      <td>5.226000</td>\n",
       "      <td>4.412000</td>\n",
       "      <td>155.000000</td>\n",
       "      <td>0.000000</td>\n",
       "      <td>31189.787230</td>\n",
       "    </tr>\n",
       "    <tr>\n",
       "      <th>75%</th>\n",
       "      <td>22.870000</td>\n",
       "      <td>81.400000</td>\n",
       "      <td>4.915000</td>\n",
       "      <td>317.000000</td>\n",
       "      <td>100.450000</td>\n",
       "      <td>157.000000</td>\n",
       "      <td>0.000000</td>\n",
       "      <td>36721.582445</td>\n",
       "    </tr>\n",
       "    <tr>\n",
       "      <th>max</th>\n",
       "      <td>40.010000</td>\n",
       "      <td>94.800000</td>\n",
       "      <td>6.483000</td>\n",
       "      <td>1163.000000</td>\n",
       "      <td>936.000000</td>\n",
       "      <td>159.000000</td>\n",
       "      <td>1.000000</td>\n",
       "      <td>52204.395120</td>\n",
       "    </tr>\n",
       "  </tbody>\n",
       "</table>\n",
       "</div>"
      ],
      "text/plain": [
       "        Temperature      Humidity    Wind Speed  general diffuse flows  \\\n",
       "count  52583.000000  52583.000000  52583.000000           52583.000000   \n",
       "mean      18.827815     68.286244      1.952796             181.923162   \n",
       "std        5.795171     15.541347      2.347332             264.143797   \n",
       "min        3.247000     11.340000      0.050000               0.004000   \n",
       "25%       14.450000     58.340000      0.078000               0.062000   \n",
       "50%       18.820000     69.880000      0.086000               5.226000   \n",
       "75%       22.870000     81.400000      4.915000             317.000000   \n",
       "max       40.010000     94.800000      6.483000            1163.000000   \n",
       "\n",
       "       diffuse flows  Air Quality Index (PM)    Cloudiness  \\\n",
       "count   52583.000000            52583.000000  52583.000000   \n",
       "mean       74.852230              154.499363      0.009338   \n",
       "std       124.072864                2.871077      0.096180   \n",
       "min         0.011000              150.000000      0.000000   \n",
       "25%         0.122000              152.000000      0.000000   \n",
       "50%         4.412000              155.000000      0.000000   \n",
       "75%       100.450000              157.000000      0.000000   \n",
       "max       936.000000              159.000000      1.000000   \n",
       "\n",
       "        Power Consumption in A Zone  \n",
       "count                  52583.000000  \n",
       "mean                   31061.821779  \n",
       "std                     8021.057455  \n",
       "min                     9457.750760  \n",
       "25%                    24738.858990  \n",
       "50%                    31189.787230  \n",
       "75%                    36721.582445  \n",
       "max                    52204.395120  "
      ]
     },
     "execution_count": 28,
     "metadata": {},
     "output_type": "execute_result"
    }
   ],
   "source": [
    "df_imputer.describe()"
   ]
  },
  {
   "cell_type": "code",
   "execution_count": 29,
   "id": "37b4b5b5-7718-4d52-b5a7-10f572f1ac90",
   "metadata": {},
   "outputs": [
    {
     "name": "stdout",
     "output_type": "stream",
     "text": [
      "Temperature                      0.194462\n",
      "Humidity                        -0.627568\n",
      "Wind Speed                       0.468408\n",
      "general diffuse flows            1.313883\n",
      "diffuse flows                    2.461325\n",
      "Air Quality Index (PM)          -0.001800\n",
      "Cloudiness                      10.203384\n",
      " Power Consumption in A Zone     0.031528\n",
      "dtype: float64\n"
     ]
    }
   ],
   "source": [
    "skewness=df_imputer.skew()\n",
    "print(skewness)"
   ]
  },
  {
   "cell_type": "code",
   "execution_count": 30,
   "id": "e0feb159-d70e-43a4-a7df-994ce7d62a91",
   "metadata": {
    "scrolled": true
   },
   "outputs": [
    {
     "data": {
      "image/png": "[encoded data removed]",
      "text/plain": [
       "<Figure size 1000x600 with 1 Axes>"
      ]
     },
     "metadata": {},
     "output_type": "display_data"
    }
   ],
   "source": [
    "plt.figure(figsize=(10,6))\n",
    "sns.barplot(x=skewness.index,y=skewness.values)\n",
    "plt.title('skewness of data')\n",
    "plt.xlabel('column names')\n",
    "plt.ylabel('skewness value')\n",
    "plt.xticks(rotation=90)\n",
    "plt.show()"
   ]
  },
  {
   "cell_type": "code",
   "execution_count": 31,
   "id": "3cb4736e-79ef-42c4-a198-e824524d989b",
   "metadata": {},
   "outputs": [
    {
     "data": {
      "text/plain": [
       "Cloudiness\n",
       "0    52092\n",
       "1      491\n",
       "Name: count, dtype: int64"
      ]
     },
     "execution_count": 31,
     "metadata": {},
     "output_type": "execute_result"
    }
   ],
   "source": [
    "df_imputer['Cloudiness'].value_counts()"
   ]
  },
  {
   "cell_type": "code",
   "execution_count": 32,
   "id": "9455652b-770e-4c80-b272-06f01c1538e2",
   "metadata": {
    "scrolled": true
   },
   "outputs": [
    {
     "data": {
      "image/png": "[encoded data removed]",
      "text/plain": [
       "<Figure size 1000x800 with 2 Axes>"
      ]
     },
     "metadata": {},
     "output_type": "display_data"
    }
   ],
   "source": [
    "# Calculate correlation matrix\n",
    "corr_matrix = df_imputer.corr()\n",
    "\n",
    "# Create a heatmap\n",
    "plt.figure(figsize=(10, 8))\n",
    "sns.heatmap(corr_matrix, annot=True, cmap='coolwarm', square=True)\n",
    "\n",
    "# Add title\n",
    "plt.title(\"Correlation Heatmap\")\n",
    "plt.show()\n"
   ]
  },
  {
   "cell_type": "code",
   "execution_count": 33,
   "id": "388c24c2-adda-4abc-95a3-79d125bac6c0",
   "metadata": {},
   "outputs": [],
   "source": [
    "cols_to_transform = ['general diffuse flows', 'diffuse flows']  \n",
    "df_imputer[cols_to_transform] = df_imputer[cols_to_transform].apply(np.log)"
   ]
  },
  {
   "cell_type": "code",
   "execution_count": 34,
   "id": "27214d2d-e636-4f99-bd50-e7a2b5788876",
   "metadata": {},
   "outputs": [
    {
     "name": "stdout",
     "output_type": "stream",
     "text": [
      "Temperature                      0.194462\n",
      "Humidity                        -0.627568\n",
      "Wind Speed                       0.468408\n",
      "general diffuse flows            0.048697\n",
      "diffuse flows                    0.072781\n",
      "Air Quality Index (PM)          -0.001800\n",
      "Cloudiness                      10.203384\n",
      " Power Consumption in A Zone     0.031528\n",
      "dtype: float64\n"
     ]
    }
   ],
   "source": [
    "skewness=df_imputer.skew()\n",
    "print(skewness)"
   ]
  },
  {
   "cell_type": "code",
   "execution_count": 35,
   "id": "09f1157b-2c21-4a9e-9ca8-b828a6f3c0aa",
   "metadata": {},
   "outputs": [
    {
     "data": {
      "image/png": "[encoded data removed]",
      "text/plain": [
       "<Figure size 640x480 with 1 Axes>"
      ]
     },
     "metadata": {},
     "output_type": "display_data"
    },
    {
     "data": {
      "image/png": "[encoded data removed]",
      "text/plain": [
       "<Figure size 640x480 with 1 Axes>"
      ]
     },
     "metadata": {},
     "output_type": "display_data"
    },
    {
     "data": {
      "image/png": "[encoded data removed]",
      "text/plain": [
       "<Figure size 640x480 with 1 Axes>"
      ]
     },
     "metadata": {},
     "output_type": "display_data"
    },
    {
     "data": {
      "image/png": "[encoded data removed]",
      "text/plain": [
       "<Figure size 640x480 with 1 Axes>"
      ]
     },
     "metadata": {},
     "output_type": "display_data"
    },
    {
     "data": {
      "image/png": "[encoded data removed]",
      "text/plain": [
       "<Figure size 640x480 with 1 Axes>"
      ]
     },
     "metadata": {},
     "output_type": "display_data"
    },
    {
     "data": {
      "image/png": "[encoded data removed]",
      "text/plain": [
       "<Figure size 640x480 with 1 Axes>"
      ]
     },
     "metadata": {},
     "output_type": "display_data"
    },
    {
     "data": {
      "image/png": "[encoded data removed]",
      "text/plain": [
       "<Figure size 640x480 with 1 Axes>"
      ]
     },
     "metadata": {},
     "output_type": "display_data"
    },
    {
     "data": {
      "image/png": "[encoded data removed]",
      "text/plain": [
       "<Figure size 640x480 with 1 Axes>"
      ]
     },
     "metadata": {},
     "output_type": "display_data"
    }
   ],
   "source": [
    "def boxplots(col):\n",
    "    sns.boxplot(df_imputer[col])\n",
    "    plt.show()\n",
    "\n",
    "for i in list(df_imputer.select_dtypes(exclude=['object']).columns)[0:]:\n",
    "    boxplots(i)"
   ]
  },
  {
   "cell_type": "code",
   "execution_count": 432,
   "id": "bade6dee-4d92-4216-87ef-c6dc354f1f75",
   "metadata": {},
   "outputs": [],
   "source": [
    "df_imputer=df_imputer.drop('Cloudiness',axis=1)"
   ]
  },
  {
   "cell_type": "code",
   "execution_count": 36,
   "id": "96d01986-4926-400c-bad8-5092bd454630",
   "metadata": {},
   "outputs": [],
   "source": [
    "# feature scaling\n",
    "from sklearn .preprocessing import StandardScaler,MinMaxScaler\n",
    "scaler=StandardScaler()\n",
    "df_scaled=scaler.fit_transform(df_imputer)\n",
    "df_scaled = pd.DataFrame(df_scaled, columns=df_imputer.columns)"
   ]
  },
  {
   "cell_type": "code",
   "execution_count": 37,
   "id": "1655bcda-160e-4d57-ab16-c92bc380a65c",
   "metadata": {},
   "outputs": [
    {
     "data": {
      "text/html": [
       "<div>\n",
       "<style scoped>\n",
       "    .dataframe tbody tr th:only-of-type {\n",
       "        vertical-align: middle;\n",
       "    }\n",
       "\n",
       "    .dataframe tbody tr th {\n",
       "        vertical-align: top;\n",
       "    }\n",
       "\n",
       "    .dataframe thead th {\n",
       "        text-align: right;\n",
       "    }\n",
       "</style>\n",
       "<table border=\"1\" class=\"dataframe\">\n",
       "  <thead>\n",
       "    <tr style=\"text-align: right;\">\n",
       "      <th></th>\n",
       "      <th>Temperature</th>\n",
       "      <th>Humidity</th>\n",
       "      <th>Wind Speed</th>\n",
       "      <th>general diffuse flows</th>\n",
       "      <th>diffuse flows</th>\n",
       "      <th>Air Quality Index (PM)</th>\n",
       "      <th>Cloudiness</th>\n",
       "      <th>Power Consumption in A Zone</th>\n",
       "    </tr>\n",
       "  </thead>\n",
       "  <tbody>\n",
       "    <tr>\n",
       "      <th>0</th>\n",
       "      <td>-2.117096</td>\n",
       "      <td>0.354783</td>\n",
       "      <td>-0.796569</td>\n",
       "      <td>-1.058616</td>\n",
       "      <td>-1.008494</td>\n",
       "      <td>1.219288</td>\n",
       "      <td>10.300179</td>\n",
       "      <td>0.373255</td>\n",
       "    </tr>\n",
       "    <tr>\n",
       "      <th>1</th>\n",
       "      <td>-2.142117</td>\n",
       "      <td>0.399825</td>\n",
       "      <td>-0.796569</td>\n",
       "      <td>-0.982245</td>\n",
       "      <td>-1.107615</td>\n",
       "      <td>1.567593</td>\n",
       "      <td>10.300179</td>\n",
       "      <td>-0.155484</td>\n",
       "    </tr>\n",
       "    <tr>\n",
       "      <th>2</th>\n",
       "      <td>-2.159545</td>\n",
       "      <td>0.399825</td>\n",
       "      <td>-0.797848</td>\n",
       "      <td>-1.011514</td>\n",
       "      <td>-1.059739</td>\n",
       "      <td>-1.218845</td>\n",
       "      <td>10.300179</td>\n",
       "      <td>-0.241083</td>\n",
       "    </tr>\n",
       "    <tr>\n",
       "      <th>3</th>\n",
       "      <td>-2.192676</td>\n",
       "      <td>0.431997</td>\n",
       "      <td>-0.796569</td>\n",
       "      <td>-0.918972</td>\n",
       "      <td>-1.071764</td>\n",
       "      <td>-1.218845</td>\n",
       "      <td>10.300179</td>\n",
       "      <td>-0.353194</td>\n",
       "    </tr>\n",
       "    <tr>\n",
       "      <th>4</th>\n",
       "      <td>-2.227188</td>\n",
       "      <td>0.477039</td>\n",
       "      <td>-0.797422</td>\n",
       "      <td>-1.073236</td>\n",
       "      <td>-1.107615</td>\n",
       "      <td>-0.173930</td>\n",
       "      <td>10.300179</td>\n",
       "      <td>-0.464547</td>\n",
       "    </tr>\n",
       "    <tr>\n",
       "      <th>...</th>\n",
       "      <td>...</td>\n",
       "      <td>...</td>\n",
       "      <td>...</td>\n",
       "      <td>...</td>\n",
       "      <td>...</td>\n",
       "      <td>...</td>\n",
       "      <td>...</td>\n",
       "      <td>...</td>\n",
       "    </tr>\n",
       "    <tr>\n",
       "      <th>52578</th>\n",
       "      <td>-0.001348</td>\n",
       "      <td>0.470604</td>\n",
       "      <td>-0.791883</td>\n",
       "      <td>1.124918</td>\n",
       "      <td>0.697508</td>\n",
       "      <td>0.870984</td>\n",
       "      <td>-0.097086</td>\n",
       "      <td>0.421736</td>\n",
       "    </tr>\n",
       "    <tr>\n",
       "      <th>52579</th>\n",
       "      <td>-0.001348</td>\n",
       "      <td>0.335480</td>\n",
       "      <td>-0.794013</td>\n",
       "      <td>1.133285</td>\n",
       "      <td>0.688058</td>\n",
       "      <td>0.870984</td>\n",
       "      <td>-0.097086</td>\n",
       "      <td>0.420978</td>\n",
       "    </tr>\n",
       "    <tr>\n",
       "      <th>52580</th>\n",
       "      <td>-0.001348</td>\n",
       "      <td>0.116706</td>\n",
       "      <td>-0.795717</td>\n",
       "      <td>1.141062</td>\n",
       "      <td>0.686178</td>\n",
       "      <td>0.870984</td>\n",
       "      <td>-0.097086</td>\n",
       "      <td>0.350530</td>\n",
       "    </tr>\n",
       "    <tr>\n",
       "      <th>52581</th>\n",
       "      <td>-0.001348</td>\n",
       "      <td>-0.034505</td>\n",
       "      <td>-0.795291</td>\n",
       "      <td>1.146482</td>\n",
       "      <td>0.685233</td>\n",
       "      <td>-0.870540</td>\n",
       "      <td>-0.097086</td>\n",
       "      <td>0.364923</td>\n",
       "    </tr>\n",
       "    <tr>\n",
       "      <th>52582</th>\n",
       "      <td>-0.001348</td>\n",
       "      <td>-0.131666</td>\n",
       "      <td>-0.794439</td>\n",
       "      <td>1.150841</td>\n",
       "      <td>0.680064</td>\n",
       "      <td>0.174374</td>\n",
       "      <td>-0.097086</td>\n",
       "      <td>0.386133</td>\n",
       "    </tr>\n",
       "  </tbody>\n",
       "</table>\n",
       "<p>52583 rows × 8 columns</p>\n",
       "</div>"
      ],
      "text/plain": [
       "       Temperature  Humidity  Wind Speed  general diffuse flows  \\\n",
       "0        -2.117096  0.354783   -0.796569              -1.058616   \n",
       "1        -2.142117  0.399825   -0.796569              -0.982245   \n",
       "2        -2.159545  0.399825   -0.797848              -1.011514   \n",
       "3        -2.192676  0.431997   -0.796569              -0.918972   \n",
       "4        -2.227188  0.477039   -0.797422              -1.073236   \n",
       "...            ...       ...         ...                    ...   \n",
       "52578    -0.001348  0.470604   -0.791883               1.124918   \n",
       "52579    -0.001348  0.335480   -0.794013               1.133285   \n",
       "52580    -0.001348  0.116706   -0.795717               1.141062   \n",
       "52581    -0.001348 -0.034505   -0.795291               1.146482   \n",
       "52582    -0.001348 -0.131666   -0.794439               1.150841   \n",
       "\n",
       "       diffuse flows  Air Quality Index (PM)  Cloudiness  \\\n",
       "0          -1.008494                1.219288   10.300179   \n",
       "1          -1.107615                1.567593   10.300179   \n",
       "2          -1.059739               -1.218845   10.300179   \n",
       "3          -1.071764               -1.218845   10.300179   \n",
       "4          -1.107615               -0.173930   10.300179   \n",
       "...              ...                     ...         ...   \n",
       "52578       0.697508                0.870984   -0.097086   \n",
       "52579       0.688058                0.870984   -0.097086   \n",
       "52580       0.686178                0.870984   -0.097086   \n",
       "52581       0.685233               -0.870540   -0.097086   \n",
       "52582       0.680064                0.174374   -0.097086   \n",
       "\n",
       "        Power Consumption in A Zone  \n",
       "0                          0.373255  \n",
       "1                         -0.155484  \n",
       "2                         -0.241083  \n",
       "3                         -0.353194  \n",
       "4                         -0.464547  \n",
       "...                             ...  \n",
       "52578                      0.421736  \n",
       "52579                      0.420978  \n",
       "52580                      0.350530  \n",
       "52581                      0.364923  \n",
       "52582                      0.386133  \n",
       "\n",
       "[52583 rows x 8 columns]"
      ]
     },
     "execution_count": 37,
     "metadata": {},
     "output_type": "execute_result"
    }
   ],
   "source": [
    "df_scaled"
   ]
  },
  {
   "cell_type": "markdown",
   "id": "39992afd-fdd6-4185-ab27-8328d8bf76c8",
   "metadata": {},
   "source": [
    "# split data into train and test"
   ]
  },
  {
   "cell_type": "code",
   "execution_count": 38,
   "id": "5f8e339c-f898-482e-a69d-7929a808706f",
   "metadata": {},
   "outputs": [
    {
     "name": "stdout",
     "output_type": "stream",
     "text": [
      "Index(['Temperature', 'Humidity', 'Wind Speed', 'general diffuse flows',\n",
      "       'diffuse flows', 'Air Quality Index (PM)', 'Cloudiness',\n",
      "       ' Power Consumption in A Zone'],\n",
      "      dtype='object')\n"
     ]
    }
   ],
   "source": [
    "print(df_scaled.columns)"
   ]
  },
  {
   "cell_type": "code",
   "execution_count": 39,
   "id": "284de24b-3426-4b1b-a9b6-348531cbb5ef",
   "metadata": {},
   "outputs": [],
   "source": [
    "df_scaled=df_scaled.rename(columns={' Power Consumption in A Zone':'Power Consumption in A Zone'})"
   ]
  },
  {
   "cell_type": "code",
   "execution_count": 40,
   "id": "ad3fc35e-2aae-44af-9dab-9cab9f18be43",
   "metadata": {},
   "outputs": [
    {
     "name": "stdout",
     "output_type": "stream",
     "text": [
      "Index(['Temperature', 'Humidity', 'Wind Speed', 'general diffuse flows',\n",
      "       'diffuse flows', 'Air Quality Index (PM)', 'Cloudiness',\n",
      "       'Power Consumption in A Zone'],\n",
      "      dtype='object')\n"
     ]
    }
   ],
   "source": [
    "print(df_scaled.columns)"
   ]
  },
  {
   "cell_type": "code",
   "execution_count": 41,
   "id": "9adef96c-f9ab-4117-8b1b-ca9b2600561e",
   "metadata": {},
   "outputs": [],
   "source": [
    "# split the data into independent and dependent variables\n",
    "x = df_scaled.drop('Power Consumption in A Zone', axis=1)\n",
    "y = df_scaled['Power Consumption in A Zone']"
   ]
  },
  {
   "cell_type": "code",
   "execution_count": 42,
   "id": "bd4f2078-188b-48ba-a5e1-87c4fe649baa",
   "metadata": {},
   "outputs": [
    {
     "data": {
      "text/plain": [
       "Temperature               0\n",
       "Humidity                  0\n",
       "Wind Speed                0\n",
       "general diffuse flows     0\n",
       "diffuse flows             0\n",
       "Air Quality Index (PM)    0\n",
       "Cloudiness                0\n",
       "dtype: int64"
      ]
     },
     "execution_count": 42,
     "metadata": {},
     "output_type": "execute_result"
    }
   ],
   "source": [
    "x.isnull().sum()"
   ]
  },
  {
   "cell_type": "code",
   "execution_count": 43,
   "id": "a55fe9c6-4d2a-4334-b6be-a02d1e8c6e6d",
   "metadata": {},
   "outputs": [
    {
     "data": {
      "text/plain": [
       "Index(['Temperature', 'Humidity', 'Wind Speed', 'general diffuse flows',\n",
       "       'diffuse flows', 'Air Quality Index (PM)', 'Cloudiness'],\n",
       "      dtype='object')"
      ]
     },
     "execution_count": 43,
     "metadata": {},
     "output_type": "execute_result"
    }
   ],
   "source": [
    "x.columns"
   ]
  },
  {
   "cell_type": "code",
   "execution_count": 44,
   "id": "3256abbb-18e7-4a43-8973-3ae52618ccfa",
   "metadata": {},
   "outputs": [
    {
     "data": {
      "text/plain": [
       "52583"
      ]
     },
     "execution_count": 44,
     "metadata": {},
     "output_type": "execute_result"
    }
   ],
   "source": [
    "y.count()"
   ]
  },
  {
   "cell_type": "code",
   "execution_count": 45,
   "id": "b9077006-4aeb-4065-940d-b26132529a7b",
   "metadata": {},
   "outputs": [
    {
     "data": {
      "text/plain": [
       "Power Consumption in A Zone\n",
       " 0.436128    27\n",
       "-1.000105    20\n",
       "-0.281988    18\n",
       "-0.641046    15\n",
       "-0.921259    13\n",
       "             ..\n",
       "-0.225525     1\n",
       "-0.155542     1\n",
       " 0.011461     1\n",
       " 0.292982     1\n",
       " 0.386133     1\n",
       "Name: count, Length: 27760, dtype: int64"
      ]
     },
     "execution_count": 45,
     "metadata": {},
     "output_type": "execute_result"
    }
   ],
   "source": [
    "y.value_counts()"
   ]
  },
  {
   "cell_type": "code",
   "execution_count": 46,
   "id": "92e24fc0-8a99-4deb-86b5-80304d7b2521",
   "metadata": {},
   "outputs": [],
   "source": [
    "from sklearn.model_selection import train_test_split\n",
    "x_train, x_test, y_train, y_test = train_test_split(x, y, test_size=0.2, random_state=42)"
   ]
  },
  {
   "cell_type": "code",
   "execution_count": 47,
   "id": "b92c32af-0318-443b-a8f6-df55f6bfee92",
   "metadata": {},
   "outputs": [
    {
     "data": {
      "text/plain": [
       "Power Consumption in A Zone\n",
       " 0.436128                      21\n",
       "-0.281988                      16\n",
       "-1.000105                      15\n",
       "-0.641046                      12\n",
       "-1.135902                      11\n",
       "                               ..\n",
       "-0.219843                       1\n",
       "-0.219794                       1\n",
       "-0.219375                       1\n",
       "-0.219232                       1\n",
       " 2.635909                       1\n",
       "Name: count, Length: 24496, dtype: int64"
      ]
     },
     "execution_count": 47,
     "metadata": {},
     "output_type": "execute_result"
    }
   ],
   "source": [
    "pd.DataFrame(y_train).value_counts()"
   ]
  },
  {
   "cell_type": "code",
   "execution_count": 48,
   "id": "69936eab-a36c-483c-adfc-764da8fd545f",
   "metadata": {
    "scrolled": true
   },
   "outputs": [
    {
     "data": {
      "text/plain": [
       "Power Consumption in A Zone\n",
       " 0.436128                      6\n",
       "-0.921259                      5\n",
       " 0.578801                      5\n",
       "-1.000105                      5\n",
       "-1.311962                      4\n",
       "                              ..\n",
       "-0.433460                      1\n",
       "-0.433682                      1\n",
       "-0.434440                      1\n",
       "-0.434665                      1\n",
       " 2.557003                      1\n",
       "Name: count, Length: 8999, dtype: int64"
      ]
     },
     "execution_count": 48,
     "metadata": {},
     "output_type": "execute_result"
    }
   ],
   "source": [
    "pd.DataFrame(y_test).value_counts()"
   ]
  },
  {
   "cell_type": "code",
   "execution_count": null,
   "id": "1602862f-e6f4-404f-ad69-131da1085833",
   "metadata": {},
   "outputs": [],
   "source": []
  },
  {
   "cell_type": "code",
   "execution_count": 340,
   "id": "a84f73cd-949e-42e9-81f1-7480644b3469",
   "metadata": {},
   "outputs": [],
   "source": [
    "# scaling x_train and x_test data\n",
    "\n",
    "from sklearn.preprocessing import StandardScaler\n",
    "scaler = StandardScaler()\n",
    "x_train_scaled = scaler.fit_transform(x_train)\n",
    "x_test_scaled = scaler.transform(x_test)\n"
   ]
  },
  {
   "cell_type": "markdown",
   "id": "2c411353-7922-4095-80fe-bbb7738cace2",
   "metadata": {},
   "source": [
    "# Building machine Learning Algorithm"
   ]
  },
  {
   "cell_type": "code",
   "execution_count": 50,
   "id": "7b9df08a-c16e-474b-8969-b7bda756f933",
   "metadata": {},
   "outputs": [],
   "source": [
    "from sklearn.linear_model import LinearRegression\n",
    "from sklearn.tree import DecisionTreeRegressor\n",
    "from sklearn.ensemble import RandomForestRegressor, VotingRegressor\n",
    "from xgboost import XGBRegressor\n",
    "from sklearn.neighbors import KNeighborsRegressor\n",
    "from sklearn.svm import SVR\n",
    "from sklearn.metrics import mean_squared_error,mean_absolute_error,r2_score"
   ]
  },
  {
   "cell_type": "code",
   "execution_count": 51,
   "id": "be2ba64a-99bb-4ca1-a4c5-7a5ea2b18449",
   "metadata": {},
   "outputs": [],
   "source": [
    "# Linear regression\n",
    "lin_model=LinearRegression()\n",
    "lin_model= lin_model.fit(x_train, y_train)\n",
    "y_pred_lin = lin_model.predict(x_test)\n",
    "mse_lin = mean_squared_error(y_test, y_pred_lin)\n",
    "rmse_lin=np.sqrt(mse_lin)\n",
    "\n",
    "# DecisionTree\n",
    "dtree = DecisionTreeRegressor()\n",
    "dtree = dtree.fit(x_train, y_train)\n",
    "y_pred_dt = dtree.predict(x_test)\n",
    "mse_dt = mean_squared_error(y_test, y_pred_dt)\n",
    "rmse_dt=np.sqrt(mse_dt)"
   ]
  },
  {
   "cell_type": "code",
   "execution_count": 52,
   "id": "40d925cb-3cd0-44dd-a852-9b548b7d9129",
   "metadata": {},
   "outputs": [],
   "source": [
    "# RandomForest\n",
    "rforest = RandomForestRegressor()\n",
    "rforest = rforest.fit(x_train, y_train)\n",
    "y_pred_rf = rforest.predict(x_test)\n",
    "mse_rf = mean_squared_error(y_test, y_pred_rf)\n",
    "rmse_rf=np.sqrt(mse_rf)\n",
    "\n",
    "# XGBoost\n",
    "xgboost = XGBRegressor()\n",
    "xgboost = xgboost.fit(x_train, y_train)\n",
    "y_pred_xg = xgboost.predict(x_test)\n",
    "mse_xg = mean_squared_error(y_test, y_pred_xg)\n",
    "rmse_xg=np.sqrt(mse_xg)\n"
   ]
  },
  {
   "cell_type": "code",
   "execution_count": 53,
   "id": "439be74d-b9b0-457f-ae04-951f81837231",
   "metadata": {},
   "outputs": [],
   "source": [
    "# KNN\n",
    "knn = KNeighborsRegressor()\n",
    "knn = knn.fit(x_train, y_train)\n",
    "y_pred_knn = knn.predict(x_test)\n",
    "mse_knn = mean_squared_error(y_test, y_pred_knn)\n",
    "rmse_knn=np.sqrt(mse_knn)\n",
    "\n",
    "# SVM\n",
    "svm = SVR()\n",
    "svm = svm.fit(x_train, y_train)\n",
    "y_pred_svm = svm.predict(x_test)\n",
    "mse_svm = mean_squared_error(y_test, y_pred_svm)\n",
    "rmse_svm=np.sqrt(mse_svm)\n"
   ]
  },
  {
   "cell_type": "code",
   "execution_count": 54,
   "id": "5edf44e8-ca43-47db-a6cc-c0b4ed6a758a",
   "metadata": {},
   "outputs": [],
   "source": [
    "# Voting Classifier - combining all the above model together by using voting Regressor approach\n",
    "model_evc = VotingRegressor(estimators = [('lin_model',lin_model), ('dtree',dtree), ('rforest',rforest),('xgboost',xgboost),\n",
    "                                           ('knn',knn),('svm',svm)])\n",
    "model_evc = model_evc.fit(x_train, y_train)\n",
    "pred_evc = model_evc.predict(x_test)\n",
    "mse_evc = mean_squared_error(y_test, pred_evc)\n",
    "rmse_evc=np.sqrt(mse_evc)"
   ]
  },
  {
   "cell_type": "code",
   "execution_count": 57,
   "id": "197ece74-4184-47fc-8e96-0f9dcfa55273",
   "metadata": {},
   "outputs": [
    {
     "name": "stdout",
     "output_type": "stream",
     "text": [
      "       Method Used      RMSE\n",
      "0  LinearRegession  0.821031\n",
      "1            Dtree  0.861369\n",
      "2          RForest  0.603625\n",
      "3              XGB  0.666683\n",
      "4              KNN  0.776557\n",
      "5              SVM  0.788482\n",
      "6           Voting  0.663526\n",
      "Axes(0.125,0.11;0.775x0.77)\n"
     ]
    },
    {
     "data": {
      "image/png": "[encoded data removed]",
      "text/plain": [
       "<Figure size 640x480 with 1 Axes>"
      ]
     },
     "metadata": {},
     "output_type": "display_data"
    }
   ],
   "source": [
    "list1 = ['LinearRegession','Dtree','RForest','XGB','KNN','SVM','Voting']\n",
    "list2 = [rmse_lin,rmse_dt,rmse_rf,rmse_xg,rmse_knn,rmse_svm,rmse_evc]\n",
    "list3 = [lin_model,dtree,rforest,xgboost,knn,svm,model_evc]\n",
    "\n",
    "df_root_mean_squared_error = pd.DataFrame({\"Method Used\":list1, \"RMSE\":list2})\n",
    "\n",
    "print(df_root_mean_squared_error)\n",
    "\n",
    "chart = sns.barplot(x=\"Method Used\", y=\"RMSE\", data=df_root_mean_squared_error)\n",
    "chart.set_xticklabels(chart.get_xticklabels(), rotation=90)\n",
    "print(chart)   \n"
   ]
  },
  {
   "cell_type": "markdown",
   "id": "5d228fe8-e9f3-409b-85b3-4e2da22252ca",
   "metadata": {},
   "source": [
    "# Cross validation of model"
   ]
  },
  {
   "cell_type": "code",
   "execution_count": 59,
   "id": "2060bba4-d9d2-47bb-b676-431d927c7029",
   "metadata": {},
   "outputs": [
    {
     "name": "stdout",
     "output_type": "stream",
     "text": [
      "Cross-validation RMSE scores: [0.86186496 0.89214839 0.87443749 0.87739853 0.86794537]\n",
      "Average cross-validation RMSE: 0.8748186356522306\n"
     ]
    }
   ],
   "source": [
    "from sklearn.model_selection import cross_val_score\n",
    "from sklearn.model_selection import KFold\n",
    "from sklearn.metrics import make_scorer\n",
    "from sklearn.metrics import mean_squared_error\n",
    "\n",
    "# Define the RMSE scorer\n",
    "rmse_scorer = make_scorer(mean_squared_error, greater_is_better=False)\n",
    "\n",
    "# Train a Decision Tree Regressor model\n",
    "dtree = DecisionTreeRegressor()\n",
    "\n",
    "# Define the cross-validation object\n",
    "kfold = KFold(n_splits=5, shuffle=True, random_state=42)\n",
    "\n",
    "# Perform cross-validation\n",
    "scores = cross_val_score(dtree, x_train, y_train, cv=kfold, scoring=rmse_scorer)\n",
    "\n",
    "print(\"Cross-validation RMSE scores:\", np.sqrt(-scores))\n",
    "\n",
    "print(\"Average cross-validation RMSE:\", np.sqrt(-scores.mean()))\n"
   ]
  }
 ],
 "metadata": {
  "kernelspec": {
   "display_name": "Python 3 (ipykernel)",
   "language": "python",
   "name": "python3"
  },
  "language_info": {
   "codemirror_mode": {
    "name": "ipython",
    "version": 3
   },
   "file_extension": ".py",
   "mimetype": "text/x-python",
   "name": "python",
   "nbconvert_exporter": "python",
   "pygments_lexer": "ipython3",
   "version": "3.11.7"
  }
 },
 "nbformat": 4,
 "nbformat_minor": 5
}
